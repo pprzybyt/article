{
  "nbformat": 4,
  "nbformat_minor": 0,
  "metadata": {
    "colab": {
      "name": "sentiment.ipynb",
      "provenance": [],
      "collapsed_sections": [],
      "toc_visible": true,
      "include_colab_link": true
    },
    "kernelspec": {
      "name": "python3",
      "display_name": "Python 3"
    },
    "accelerator": "GPU"
  },
  "cells": [
    {
      "cell_type": "markdown",
      "metadata": {
        "id": "view-in-github",
        "colab_type": "text"
      },
      "source": [
        "<a href=\"https://colab.research.google.com/github/pprzybyt/article/blob/master/sentiment.ipynb\" target=\"_parent\"><img src=\"https://colab.research.google.com/assets/colab-badge.svg\" alt=\"Open In Colab\"/></a>"
      ]
    },
    {
      "cell_type": "code",
      "metadata": {
        "colab": {
          "base_uri": "https://localhost:8080/"
        },
        "id": "FvpqzxWlt012",
        "outputId": "05c0503b-ed4e-4da9-877c-a48d22ed2a76"
      },
      "source": [
        "from google.colab import drive\n",
        "\n",
        "drive.mount(\"/content/drive\")"
      ],
      "execution_count": 2,
      "outputs": [
        {
          "output_type": "stream",
          "text": [
            "Drive already mounted at /content/drive; to attempt to forcibly remount, call drive.mount(\"/content/drive\", force_remount=True).\n"
          ],
          "name": "stdout"
        }
      ]
    },
    {
      "cell_type": "code",
      "metadata": {
        "id": "nG7POoJLuGKM"
      },
      "source": [
        "import os\n",
        "from pathlib import Path\n",
        "\n",
        "# you can change `sentiment` to whatever suits you\n",
        "project_path = Path(\"/content/drive/My Drive/Colab Notebooks/sentiment\")\n",
        "project_path.mkdir(parents=True, exist_ok=True)\n",
        "os.chdir(project_path)  # set working directory to not overwrite any crucial data"
      ],
      "execution_count": 3,
      "outputs": []
    },
    {
      "cell_type": "markdown",
      "metadata": {
        "id": "ipWYQOA28UFu"
      },
      "source": [
        "# **1. Dataset preparation**\n",
        "1.6M tweets dataset: https://www.kaggle.com/kazanova/sentiment140 the one in \n",
        "Data Explorer section = 227.74 MB\n",
        "\n",
        "Please download it under `<project_path>/data/training.1600000.processed.noemoticon.csv` on your drive"
      ]
    },
    {
      "cell_type": "code",
      "metadata": {
        "id": "d9QTbqHRR11l"
      },
      "source": [
        "dataset_path = 'data/training.1600000.processed.noemoticon.csv'\n",
        "assert Path(dataset_path).exists(), 'You need to download the dataset first'"
      ],
      "execution_count": 4,
      "outputs": []
    },
    {
      "cell_type": "code",
      "metadata": {
        "colab": {
          "base_uri": "https://localhost:8080/"
        },
        "id": "_WPh8GIhupCZ",
        "outputId": "43b4cdb2-05a0-4250-a63f-5f67c0bc4832"
      },
      "source": [
        "%%time\n",
        "import pandas as pd\n",
        "df = pd.read_csv(\n",
        "    filepath_or_buffer=dataset_path, \n",
        "    encoding=\"ISO-8859-1\", \n",
        "    usecols=[0, 5],\n",
        "    names=['target', 'text'],\n",
        "    engine='python', \n",
        "    error_bad_lines=False,\n",
        "    )"
      ],
      "execution_count": 5,
      "outputs": [
        {
          "output_type": "stream",
          "text": [
            "CPU times: user 8.36 s, sys: 574 ms, total: 8.93 s\n",
            "Wall time: 10.3 s\n"
          ],
          "name": "stdout"
        }
      ]
    },
    {
      "cell_type": "code",
      "metadata": {
        "colab": {
          "base_uri": "https://localhost:8080/",
          "height": 198
        },
        "id": "uXBNbcPEutcC",
        "outputId": "20f10a1a-cf75-42d3-f6c5-40dd2a49ce5d"
      },
      "source": [
        "df.head()"
      ],
      "execution_count": 6,
      "outputs": [
        {
          "output_type": "execute_result",
          "data": {
            "text/html": [
              "<div>\n",
              "<style scoped>\n",
              "    .dataframe tbody tr th:only-of-type {\n",
              "        vertical-align: middle;\n",
              "    }\n",
              "\n",
              "    .dataframe tbody tr th {\n",
              "        vertical-align: top;\n",
              "    }\n",
              "\n",
              "    .dataframe thead th {\n",
              "        text-align: right;\n",
              "    }\n",
              "</style>\n",
              "<table border=\"1\" class=\"dataframe\">\n",
              "  <thead>\n",
              "    <tr style=\"text-align: right;\">\n",
              "      <th></th>\n",
              "      <th>target</th>\n",
              "      <th>text</th>\n",
              "    </tr>\n",
              "  </thead>\n",
              "  <tbody>\n",
              "    <tr>\n",
              "      <th>0</th>\n",
              "      <td>0</td>\n",
              "      <td>@switchfoot http://twitpic.com/2y1zl - Awww, t...</td>\n",
              "    </tr>\n",
              "    <tr>\n",
              "      <th>1</th>\n",
              "      <td>0</td>\n",
              "      <td>is upset that he can't update his Facebook by ...</td>\n",
              "    </tr>\n",
              "    <tr>\n",
              "      <th>2</th>\n",
              "      <td>0</td>\n",
              "      <td>@Kenichan I dived many times for the ball. Man...</td>\n",
              "    </tr>\n",
              "    <tr>\n",
              "      <th>3</th>\n",
              "      <td>0</td>\n",
              "      <td>my whole body feels itchy and like its on fire</td>\n",
              "    </tr>\n",
              "    <tr>\n",
              "      <th>4</th>\n",
              "      <td>0</td>\n",
              "      <td>@nationwideclass no, it's not behaving at all....</td>\n",
              "    </tr>\n",
              "  </tbody>\n",
              "</table>\n",
              "</div>"
            ],
            "text/plain": [
              "   target                                               text\n",
              "0       0  @switchfoot http://twitpic.com/2y1zl - Awww, t...\n",
              "1       0  is upset that he can't update his Facebook by ...\n",
              "2       0  @Kenichan I dived many times for the ball. Man...\n",
              "3       0    my whole body feels itchy and like its on fire \n",
              "4       0  @nationwideclass no, it's not behaving at all...."
            ]
          },
          "metadata": {
            "tags": []
          },
          "execution_count": 6
        }
      ]
    },
    {
      "cell_type": "markdown",
      "metadata": {
        "id": "BrnjxRiP2bNJ"
      },
      "source": [
        "## **Distribution of labels (0 - negative, 4 - positive)**\n",
        "\n"
      ]
    },
    {
      "cell_type": "code",
      "metadata": {
        "colab": {
          "base_uri": "https://localhost:8080/",
          "height": 280
        },
        "id": "BAtwtHOdz-cl",
        "outputId": "bd4e991e-03b6-4c97-ca41-35fee457dcd7"
      },
      "source": [
        "df['target'].value_counts().plot(kind='bar')"
      ],
      "execution_count": 7,
      "outputs": [
        {
          "output_type": "execute_result",
          "data": {
            "text/plain": [
              "<matplotlib.axes._subplots.AxesSubplot at 0x7f07854bc350>"
            ]
          },
          "metadata": {
            "tags": []
          },
          "execution_count": 7
        },
        {
          "output_type": "display_data",
          "data": {
            "image/png": "[encoded data removed]",
            "text/plain": [
              "<Figure size 432x288 with 1 Axes>"
            ]
          },
          "metadata": {
            "tags": [],
            "needs_background": "light"
          }
        }
      ]
    },
    {
      "cell_type": "markdown",
      "metadata": {
        "id": "ejJN81tM8GQb"
      },
      "source": [
        "## **Data cleanup**\n",
        "\n"
      ]
    },
    {
      "cell_type": "code",
      "metadata": {
        "colab": {
          "base_uri": "https://localhost:8080/"
        },
        "id": "due5XWJG0C-R",
        "outputId": "90947e54-2fb5-41d5-cc5a-c6cdb4eb486a"
      },
      "source": [
        "%%time\n",
        "df['text'] = df['text'] \\\n",
        ".str.replace(r'(?:@|#|https?:|www\\.)\\S+', '') \\\n",
        ".str.replace(r'[^A-Za-z0-9 ]+', '') \\\n",
        ".str.split() \\\n",
        ".str.join(' ') \\\n",
        ".str.lower()\n",
        "\n",
        "df['target'] = df['target'].replace(4, 1)\n"
      ],
      "execution_count": 8,
      "outputs": [
        {
          "output_type": "stream",
          "text": [
            "CPU times: user 11.3 s, sys: 560 ms, total: 11.8 s\n",
            "Wall time: 11.8 s\n"
          ],
          "name": "stdout"
        }
      ]
    },
    {
      "cell_type": "code",
      "metadata": {
        "colab": {
          "base_uri": "https://localhost:8080/",
          "height": 198
        },
        "id": "6Ycoj6H30NcT",
        "outputId": "2089298f-84ac-4ba4-db3a-24a23b89dd34"
      },
      "source": [
        "df.head()"
      ],
      "execution_count": 9,
      "outputs": [
        {
          "output_type": "execute_result",
          "data": {
            "text/html": [
              "<div>\n",
              "<style scoped>\n",
              "    .dataframe tbody tr th:only-of-type {\n",
              "        vertical-align: middle;\n",
              "    }\n",
              "\n",
              "    .dataframe tbody tr th {\n",
              "        vertical-align: top;\n",
              "    }\n",
              "\n",
              "    .dataframe thead th {\n",
              "        text-align: right;\n",
              "    }\n",
              "</style>\n",
              "<table border=\"1\" class=\"dataframe\">\n",
              "  <thead>\n",
              "    <tr style=\"text-align: right;\">\n",
              "      <th></th>\n",
              "      <th>target</th>\n",
              "      <th>text</th>\n",
              "    </tr>\n",
              "  </thead>\n",
              "  <tbody>\n",
              "    <tr>\n",
              "      <th>0</th>\n",
              "      <td>0</td>\n",
              "      <td>awww thats a bummer you shoulda got david carr...</td>\n",
              "    </tr>\n",
              "    <tr>\n",
              "      <th>1</th>\n",
              "      <td>0</td>\n",
              "      <td>is upset that he cant update his facebook by t...</td>\n",
              "    </tr>\n",
              "    <tr>\n",
              "      <th>2</th>\n",
              "      <td>0</td>\n",
              "      <td>i dived many times for the ball managed to sav...</td>\n",
              "    </tr>\n",
              "    <tr>\n",
              "      <th>3</th>\n",
              "      <td>0</td>\n",
              "      <td>my whole body feels itchy and like its on fire</td>\n",
              "    </tr>\n",
              "    <tr>\n",
              "      <th>4</th>\n",
              "      <td>0</td>\n",
              "      <td>no its not behaving at all im mad why am i her...</td>\n",
              "    </tr>\n",
              "  </tbody>\n",
              "</table>\n",
              "</div>"
            ],
            "text/plain": [
              "   target                                               text\n",
              "0       0  awww thats a bummer you shoulda got david carr...\n",
              "1       0  is upset that he cant update his facebook by t...\n",
              "2       0  i dived many times for the ball managed to sav...\n",
              "3       0     my whole body feels itchy and like its on fire\n",
              "4       0  no its not behaving at all im mad why am i her..."
            ]
          },
          "metadata": {
            "tags": []
          },
          "execution_count": 9
        }
      ]
    },
    {
      "cell_type": "markdown",
      "metadata": {
        "id": "uT-OwJONA5iV"
      },
      "source": [
        "## **Data split**\n"
      ]
    },
    {
      "cell_type": "code",
      "metadata": {
        "id": "CWdAvzdBqmIq"
      },
      "source": [
        "from sklearn.model_selection import train_test_split\n",
        "\n",
        "TEST_SIZE = .1\n",
        "RANDOM_STATE = 123\n",
        "\n",
        "def split_data(test_size: float = TEST_SIZE, random_state: int = RANDOM_STATE):\n",
        "  X = df['text']\n",
        "  y = df['target']\n",
        "\n",
        "  X_train, X_test, y_train, y_test = train_test_split(X, y, \n",
        "                                                      test_size=test_size, \n",
        "                                                      random_state=random_state,\n",
        "                                                      stratify=y)\n",
        "  return X_train, X_test, y_train, y_test\n"
      ],
      "execution_count": 10,
      "outputs": []
    },
    {
      "cell_type": "markdown",
      "metadata": {
        "id": "kcJ6umEfBQxu"
      },
      "source": [
        "# **2. LogisticRegression approach**\n"
      ]
    },
    {
      "cell_type": "code",
      "metadata": {
        "id": "wEG9VOaVVw_q"
      },
      "source": [
        "import pathlib\n",
        "import pickle\n",
        "\n",
        "models_path = pathlib.Path('models')\n",
        "filename = 'log_reg'\n",
        "filename += '.pkl'\n",
        "# You can customize the model name creation - here a basic approach is shown\n",
        "log_reg_path = models_path/filename\n",
        "\n",
        "models_path.mkdir(exist_ok=True)\n",
        "\n",
        "def save_model(path, *args):\n",
        "  print(f'Saving model under {path}')\n",
        "  with open(path, 'wb') as f:\n",
        "    pickle.dump([*args], f) \n",
        "\n",
        "def load_model(path):\n",
        "  print(f'Loading model from {path}')\n",
        "  with open(path, 'rb') as f: \n",
        "    models = pickle.load(f)\n",
        "  return models\n"
      ],
      "execution_count": 11,
      "outputs": []
    },
    {
      "cell_type": "code",
      "metadata": {
        "colab": {
          "base_uri": "https://localhost:8080/"
        },
        "id": "ejcsAxwwH2MC",
        "outputId": "f9e55eea-0670-4edc-a5e4-869b50361087"
      },
      "source": [
        "from sklearn.feature_extraction.text import CountVectorizer\n",
        "from sklearn.linear_model import LogisticRegression\n",
        "\n",
        "NGRAM_RANGE = 2\n",
        "MAX_ITER = 10\n",
        "LOAD = False\n",
        "TRAIN = True\n",
        "\n",
        "X_train, X_test, y_train, y_test = split_data()\n",
        "print(X_train)\n",
        "\n",
        "if LOAD and log_reg_path.exists():\n",
        "  print(f'Loading logistic regression model from `{log_reg_path}`')\n",
        "  vectorizer, log_reg = load_model(log_reg_path)\n",
        "  X_train = vectorizer.transform(X_train)\n",
        "else:\n",
        "  vectorizer = CountVectorizer(ngram_range=(1, NGRAM_RANGE))\n",
        "  log_reg = LogisticRegression(max_iter=MAX_ITER, random_state=RANDOM_STATE)\n",
        "  X_train = vectorizer.fit_transform(X_train)\n",
        "\n",
        "X_test = vectorizer.transform(X_test)\n",
        "\n",
        "if TRAIN:\n",
        "  print('Started training... It may take a while, depending on MAX_ITER value')\n",
        "  log_reg = log_reg.fit(X_train, y_train)\n",
        "  print('Finished training.')\n",
        "  save_model(log_reg_path, vectorizer, log_reg)\n"
      ],
      "execution_count": 12,
      "outputs": [
        {
          "output_type": "stream",
          "text": [
            "487541     is cracking on with learning more of the code ...\n",
            "315807     my home server has finaly packed in well one t...\n",
            "811173     is in chem going to marys later and meg and bi...\n",
            "1344143    im doing well i really should tear myself away...\n",
            "350702           working on my online classes ugh this sucks\n",
            "                                 ...                        \n",
            "1096932    4 steps you can do 2 make money while your twe...\n",
            "1494329                        i missed a step ill do it now\n",
            "150791     i feel like drinking a moka its kinda late to ...\n",
            "460927     had far too much wine which has lost me a chun...\n",
            "1314199                     thanks for the how have you been\n",
            "Name: text, Length: 1440000, dtype: object\n",
            "Started training... It may take a while, depending on MAX_ITER value\n"
          ],
          "name": "stdout"
        },
        {
          "output_type": "stream",
          "text": [
            "/usr/local/lib/python3.7/dist-packages/sklearn/linear_model/_logistic.py:940: ConvergenceWarning: lbfgs failed to converge (status=1):\n",
            "STOP: TOTAL NO. of ITERATIONS REACHED LIMIT.\n",
            "\n",
            "Increase the number of iterations (max_iter) or scale the data as shown in:\n",
            "    https://scikit-learn.org/stable/modules/preprocessing.html\n",
            "Please also refer to the documentation for alternative solver options:\n",
            "    https://scikit-learn.org/stable/modules/linear_model.html#logistic-regression\n",
            "  extra_warning_msg=_LOGISTIC_SOLVER_CONVERGENCE_MSG)\n"
          ],
          "name": "stderr"
        },
        {
          "output_type": "stream",
          "text": [
            "Finished training.\n",
            "Saving model under models/log_reg.pkl\n"
          ],
          "name": "stdout"
        }
      ]
    },
    {
      "cell_type": "markdown",
      "metadata": {
        "id": "ksbxjAgBVyT9"
      },
      "source": [
        "## **Load model**"
      ]
    },
    {
      "cell_type": "code",
      "metadata": {
        "colab": {
          "base_uri": "https://localhost:8080/"
        },
        "id": "krv3XJx8Z0lE",
        "outputId": "99b922cc-5422-4318-8c3e-d9ba19663e97"
      },
      "source": [
        "# checking if model can be restored properly\n",
        "load_model(log_reg_path)"
      ],
      "execution_count": 14,
      "outputs": [
        {
          "output_type": "stream",
          "text": [
            "Loading model from models/log_reg.pkl\n"
          ],
          "name": "stdout"
        },
        {
          "output_type": "execute_result",
          "data": {
            "text/plain": [
              "[CountVectorizer(analyzer='word', binary=False, decode_error='strict',\n",
              "                 dtype=<class 'numpy.int64'>, encoding='utf-8', input='content',\n",
              "                 lowercase=True, max_df=1.0, max_features=None, min_df=1,\n",
              "                 ngram_range=(1, 2), preprocessor=None, stop_words=None,\n",
              "                 strip_accents=None, token_pattern='(?u)\\\\b\\\\w\\\\w+\\\\b',\n",
              "                 tokenizer=None, vocabulary=None),\n",
              " LogisticRegression(C=1.0, class_weight=None, dual=False, fit_intercept=True,\n",
              "                    intercept_scaling=1, l1_ratio=None, max_iter=10,\n",
              "                    multi_class='auto', n_jobs=None, penalty='l2',\n",
              "                    random_state=123, solver='lbfgs', tol=0.0001, verbose=0,\n",
              "                    warm_start=False)]"
            ]
          },
          "metadata": {
            "tags": []
          },
          "execution_count": 14
        }
      ]
    },
    {
      "cell_type": "markdown",
      "metadata": {
        "id": "Bemq1es5EQZc"
      },
      "source": [
        "## **Results**\n"
      ]
    },
    {
      "cell_type": "code",
      "metadata": {
        "colab": {
          "base_uri": "https://localhost:8080/",
          "height": 886
        },
        "id": "J0QfDhp7UVb4",
        "outputId": "e7f5d3f2-8076-48f5-fbe5-3671e19430f9"
      },
      "source": [
        "from sklearn.metrics import classification_report, plot_confusion_matrix\n",
        "print(classification_report(log_reg.predict(X_train), y_train))\n",
        "print(classification_report(log_reg.predict(X_test), y_test))\n",
        "\n",
        "plot_confusion_matrix(log_reg, X_train, y_train)\n",
        "plot_confusion_matrix(log_reg, X_test, y_test)"
      ],
      "execution_count": 15,
      "outputs": [
        {
          "output_type": "stream",
          "text": [
            "              precision    recall  f1-score   support\n",
            "\n",
            "           0       0.72      0.79      0.75    656458\n",
            "           1       0.81      0.74      0.77    783542\n",
            "\n",
            "    accuracy                           0.76   1440000\n",
            "   macro avg       0.76      0.77      0.76   1440000\n",
            "weighted avg       0.77      0.76      0.77   1440000\n",
            "\n",
            "              precision    recall  f1-score   support\n",
            "\n",
            "           0       0.72      0.79      0.75     72952\n",
            "           1       0.81      0.74      0.77     87048\n",
            "\n",
            "    accuracy                           0.76    160000\n",
            "   macro avg       0.76      0.77      0.76    160000\n",
            "weighted avg       0.77      0.76      0.76    160000\n",
            "\n"
          ],
          "name": "stdout"
        },
        {
          "output_type": "execute_result",
          "data": {
            "text/plain": [
              "<sklearn.metrics._plot.confusion_matrix.ConfusionMatrixDisplay at 0x7f073260ab90>"
            ]
          },
          "metadata": {
            "tags": []
          },
          "execution_count": 15
        },
        {
          "output_type": "display_data",
          "data": {
            "image/png": "[encoded data removed]",
            "text/plain": [
              "<Figure size 432x288 with 2 Axes>"
            ]
          },
          "metadata": {
            "tags": [],
            "needs_background": "light"
          }
        },
        {
          "output_type": "display_data",
          "data": {
            "image/png": "[encoded data removed]",
            "text/plain": [
              "<Figure size 432x288 with 2 Axes>"
            ]
          },
          "metadata": {
            "tags": [],
            "needs_background": "light"
          }
        }
      ]
    },
    {
      "cell_type": "markdown",
      "metadata": {
        "id": "5Qik_kclb-Dz"
      },
      "source": [
        "### **Feature importance**\n"
      ]
    },
    {
      "cell_type": "markdown",
      "metadata": {
        "id": "frLJL3-3iSlV"
      },
      "source": [
        "Without any hardcoded information about language semantics the algorithm is able to extract very usefull features. "
      ]
    },
    {
      "cell_type": "code",
      "metadata": {
        "id": "fW3kfaj6eA88"
      },
      "source": [
        "features = vectorizer.get_feature_names()"
      ],
      "execution_count": 16,
      "outputs": []
    },
    {
      "cell_type": "code",
      "metadata": {
        "colab": {
          "base_uri": "https://localhost:8080/"
        },
        "id": "XLmRKqZCgSiA",
        "outputId": "2421461e-9553-4a6d-aaff-04f24d223595"
      },
      "source": [
        "import numpy as np\n",
        "\n",
        "top_n = 10\n",
        "positive = np.argsort(log_reg.coef_[0])[::-1][:top_n]\n",
        "negative = np.argsort(log_reg.coef_[0])[:top_n]\n",
        "\n",
        "print(f'\\n Positive features: \\n {[features[x] for x in positive]}')\n",
        "print(f'\\n Negative features: \\n {[features[x] for x in negative]}')"
      ],
      "execution_count": 17,
      "outputs": [
        {
          "output_type": "stream",
          "text": [
            "\n",
            " Positive features: \n",
            " ['thanks', 'happy', 'cant wait', 'great', 'awesome', 'nice', 'haha', 'yay', 'thank', 'love']\n",
            "\n",
            " Negative features: \n",
            " ['sad', 'miss', 'sorry', 'hate', 'wish', 'sick', 'cant', 'bad', 'sucks', 'didnt']\n"
          ],
          "name": "stdout"
        }
      ]
    },
    {
      "cell_type": "code",
      "metadata": {
        "id": "mjQ1pil1lSzs"
      },
      "source": [
        "# TO BE CONTINUED ;)"
      ],
      "execution_count": 18,
      "outputs": []
    },
    {
      "cell_type": "code",
      "metadata": {
        "id": "hJ3NhlfQYHwZ"
      },
      "source": [
        ""
      ],
      "execution_count": null,
      "outputs": []
    }
  ]
}